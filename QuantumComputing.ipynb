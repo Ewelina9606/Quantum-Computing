{
 "cells": [
  {
   "cell_type": "code",
   "execution_count": null,
   "id": "7dc79263-e6c2-46a0-8280-eada41ebef7f",
   "metadata": {},
   "outputs": [],
   "source": [
    "from qiskit import QuantumCircuit, assemble, Aer\n",
    "from qiskit.visualization import plot_histogram"
   ]
  },
  {
   "cell_type": "markdown",
   "id": "303e4561-8ee8-4c01-b94e-c2ea67113de4",
   "metadata": {},
   "source": [
    "NOT GATE"
   ]
  },
  {
   "cell_type": "code",
   "execution_count": null,
   "id": "8793a11f-1e04-47a5-855d-b81d517b8edd",
   "metadata": {},
   "outputs": [],
   "source": [
    "qc_encode = QuantumCircuit(8)\n",
    "qc_encode.x(7)\n",
    "qc_encode.measure_all()\n",
    "qc_encode.draw()"
   ]
  },
  {
   "cell_type": "markdown",
   "id": "6a95b70c-27e9-4828-9f9b-382dbdf50a8d",
   "metadata": {},
   "source": [
    "XOR GATE == CNOT"
   ]
  },
  {
   "cell_type": "code",
   "execution_count": null,
   "id": "408e3281-d6a6-4a7a-875b-7faae45ade7a",
   "metadata": {},
   "outputs": [],
   "source": [
    "qc_cnot = QuantumCircuit(2)\n",
    "qc_cnot.cx(0,1)\n",
    "qc_cnot.draw()"
   ]
  },
  {
   "cell_type": "code",
   "execution_count": null,
   "id": "fdf25d6a-4d2a-4545-af66-af439263f8ad",
   "metadata": {},
   "outputs": [],
   "source": [
    "qc = QuantumCircuit(2,2)\n",
    "qc.x(0)\n",
    "qc.cx(0,1)\n",
    "qc.measure(0,0)\n",
    "qc.measure(1,1) \n",
    "qc.draw()"
   ]
  },
  {
   "cell_type": "code",
   "execution_count": null,
   "id": "6e103ab2-e919-4374-9c41-2b3bec3763d0",
   "metadata": {},
   "outputs": [],
   "source": [
    "qc_ha = QuantumCircuit(4,2)\n",
    "# encode inputs in qubits 0 and 1\n",
    "qc_ha.x(0) # For a=0, remove this line. For a=1, leave it.\n",
    "qc_ha.x(1) # For b=0, remove this line. For b=1, leave it.\n",
    "qc_ha.barrier()\n",
    "# use cnots to write the XOR of the inputs on qubit 2\n",
    "qc_ha.cx(0,2)\n",
    "qc_ha.cx(1,2)\n",
    "qc_ha.barrier()\n",
    "# extract outputs\n",
    "qc_ha.measure(2,0) # extract XOR value\n",
    "qc_ha.measure(3,1)\n",
    "\n",
    "qc_ha.draw()"
   ]
  },
  {
   "cell_type": "markdown",
   "id": "158b7157-f4f0-4ab8-a874-4b07b443f542",
   "metadata": {},
   "source": [
    "Toffoli == AND gate."
   ]
  },
  {
   "cell_type": "code",
   "execution_count": null,
   "id": "7c0072cd-40e6-4cd8-b20f-ef3c9fcc417c",
   "metadata": {},
   "outputs": [],
   "source": [
    "qc_ha = QuantumCircuit(4,2)\n",
    "# encode inputs in qubits 0 and 1\n",
    "qc_ha.x(0) # For a=0, remove the this line. For a=1, leave it.\n",
    "qc_ha.x(1) # For b=0, remove the this line. For b=1, leave it.\n",
    "qc_ha.barrier()\n",
    "# use cnots to write the XOR of the inputs on qubit 2\n",
    "qc_ha.cx(0,2)\n",
    "qc_ha.cx(1,2)\n",
    "# use ccx to write the AND of the inputs on qubit 3\n",
    "qc_ha.ccx(0,1,3)\n",
    "qc_ha.barrier()\n",
    "# extract outputs\n",
    "qc_ha.measure(2,0) # extract XOR value\n",
    "qc_ha.measure(3,1) # extract AND value\n",
    "\n",
    "qc_ha.draw()"
   ]
  },
  {
   "cell_type": "code",
   "execution_count": null,
   "id": "5ebbdfa4-7234-4d69-bc27-4ffaf5d2a5a0",
   "metadata": {},
   "outputs": [],
   "source": [
    "qobj = assemble(qc_ha)\n",
    "counts = sim.run(qobj).result().get_counts()\n",
    "plot_histogram(counts)"
   ]
  },
  {
   "cell_type": "code",
   "execution_count": null,
   "id": "3bfabc11-ae97-4284-ab9e-8871116ffe5e",
   "metadata": {},
   "outputs": [],
   "source": [
    "from qiskit import QuantumCircuit, assemble, Aer\n",
    "from math import pi, sqrt\n",
    "from qiskit.visualization import plot_bloch_multivector, plot_histogram\n",
    "\n",
    "#x-gate\n",
    "sim = Aer.get_backend('aer_simulator')\n",
    "qc = QuantumCircuit(1)\n",
    "qc.x(0)\n",
    "qc.draw()"
   ]
  },
  {
   "cell_type": "code",
   "execution_count": null,
   "id": "1919b912-0115-4283-a348-be9e7b051479",
   "metadata": {},
   "outputs": [],
   "source": [
    "qc.save_statevector()\n",
    "qobj = assemble(qc)\n",
    "state = sim.run(qobj).result().get_statevector()\n",
    "plot_bloch_multivector(state)"
   ]
  },
  {
   "cell_type": "code",
   "execution_count": null,
   "id": "b3b44ff8-003c-492e-b60f-abadc6c42cdc",
   "metadata": {},
   "outputs": [],
   "source": [
    "#Pauli gates widget\n",
    "from qiskit_textbook.widgets import gate_demo\n",
    "gate_demo(gates='pauli')"
   ]
  },
  {
   "cell_type": "code",
   "execution_count": null,
   "id": "9867ea62-bbf2-44b0-a576-60cd1ec60b2f",
   "metadata": {},
   "outputs": [],
   "source": [
    "#Y and Z-gates\n",
    "qc.y(0) # Do Y-gate on qubit 0\n",
    "qc.z(0) # Do Z-gate on qubit 0\n",
    "qc.draw()"
   ]
  },
  {
   "cell_type": "code",
   "execution_count": null,
   "id": "61575cbf-06a5-44dc-8731-8c9107b28680",
   "metadata": {},
   "outputs": [],
   "source": [
    "#Hadamard Gate widget\n",
    "from qiskit_textbook.widgets import gate_demo\n",
    "gate_demo(gates='pauli+h')"
   ]
  },
  {
   "cell_type": "code",
   "execution_count": null,
   "id": "f39458fb-52e6-4d7c-ad0a-0f09c511dc69",
   "metadata": {},
   "outputs": [],
   "source": [
    "#Hadamard Gate\n",
    "# Create the X-measurement function:\n",
    "def x_measurement(qc, qubit, cbit):\n",
    "    \"\"\"Measure 'qubit' in the X-basis, and store the result in 'cbit'\"\"\"\n",
    "    qc.h(qubit)\n",
    "    qc.measure(qubit, cbit)\n",
    "    return qc\n",
    "\n",
    "initial_state = [1/sqrt(2), -1/sqrt(2)]\n",
    "# Initialize our qubit and measure it\n",
    "qc = QuantumCircuit(1,1)\n",
    "qc.initialize(initial_state, 0)\n",
    "x_measurement(qc, 0, 0)  # measure qubit 0 to classical bit 0\n",
    "qc.draw()"
   ]
  },
  {
   "cell_type": "code",
   "execution_count": null,
   "id": "412eda8b-4f9f-4374-aeda-18d8a2775081",
   "metadata": {},
   "outputs": [],
   "source": [
    "#P-gate widget\n",
    "from qiskit_textbook.widgets import gate_demo\n",
    "gate_demo(gates='pauli+h+p')"
   ]
  },
  {
   "cell_type": "code",
   "execution_count": null,
   "id": "99217f8c-1e59-4af4-ad86-8ca1f3e3064d",
   "metadata": {},
   "outputs": [],
   "source": [
    "#P-gate\n",
    "qc = QuantumCircuit(1)\n",
    "qc.p(pi/4, 0)\n",
    "qc.draw()"
   ]
  },
  {
   "cell_type": "code",
   "execution_count": null,
   "id": "f75e57ee-ba38-4ef3-ba3d-53937d99b231",
   "metadata": {},
   "outputs": [],
   "source": [
    "#S-gate\n",
    "qc = QuantumCircuit(1)\n",
    "qc.s(0)   # Apply S-gate to qubit 0\n",
    "qc.sdg(0) # Apply Sdg-gate to qubit 0\n",
    "qc.draw()"
   ]
  },
  {
   "cell_type": "code",
   "execution_count": null,
   "id": "0431202b-24f7-4ccd-ba30-9670bc312b9f",
   "metadata": {},
   "outputs": [],
   "source": [
    "#S-gate\n",
    "qc = QuantumCircuit(1)\n",
    "qc.s(0)   # Apply S-gate to qubit 0\n",
    "qc.sdg(0) # Apply Sdg-gate to qubit 0\n",
    "qc.draw()"
   ]
  },
  {
   "cell_type": "code",
   "execution_count": null,
   "id": "ca532154-1f6f-4ca2-affb-de1a9e3fedf3",
   "metadata": {},
   "outputs": [],
   "source": [
    "#U-gate\n",
    "# Let's have U-gate transform a |0> to |+> state\n",
    "qc = QuantumCircuit(1)\n",
    "qc.u(pi/2, 0, pi, 0)\n",
    "qc.draw()"
   ]
  }
 ],
 "metadata": {
  "kernelspec": {
   "display_name": "Qiskit v0.35.0 (ipykernel)",
   "language": "python",
   "name": "python3"
  },
  "language_info": {
   "codemirror_mode": {
    "name": "ipython",
    "version": 3
   },
   "file_extension": ".py",
   "mimetype": "text/x-python",
   "name": "python",
   "nbconvert_exporter": "python",
   "pygments_lexer": "ipython3",
   "version": "3.8.13"
  },
  "widgets": {
   "application/vnd.jupyter.widget-state+json": {
    "state": {},
    "version_major": 2,
    "version_minor": 0
   }
  }
 },
 "nbformat": 4,
 "nbformat_minor": 5
}
